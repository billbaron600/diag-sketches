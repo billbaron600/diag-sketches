{
 "cells": [
  {
   "cell_type": "code",
   "execution_count": 1,
   "id": "b51e830b",
   "metadata": {},
   "outputs": [
    {
     "name": "stderr",
     "output_type": "stream",
     "text": [
      "pybullet build time: May 20 2022 19:44:17\n"
     ]
    }
   ],
   "source": [
    "import numpy as np\n",
    "import torch\n",
    "from torch import nn\n",
    "import matplotlib.pyplot as plt\n",
    "import copy\n",
    "import math\n",
    "\n",
    "from PIL import Image\n",
    "from matplotlib import image\n",
    "\n",
    "import pickle\n",
    "import time\n",
    "\n",
    "import pybullet as p\n",
    "from envs import FrankaEnv\n",
    "from envs.robot_env import RobotEnv\n",
    "from envs import robot_sim\n",
    "from utils.bullet_utils import add_goal, add_obstacle_ball\n",
    "from utils.python_utils import merge_dicts\n",
    "\n",
    "#import controller_track_taskspace as contr\n",
    "from pybullet_helpers import *\n",
    "from trajectory_generator import *\n",
    "from extract_density import *\n",
    "import pytorch_kinematics as pk\n",
    "device='cpu'"
   ]
  },
  {
   "cell_type": "code",
   "execution_count": 2,
   "id": "ffdcd125",
   "metadata": {},
   "outputs": [
    {
     "name": "stdout",
     "output_type": "stream",
     "text": [
      "True\n",
      "mobile_franka\n",
      "robot name: mobile_franka\n"
     ]
    }
   ],
   "source": [
    "cl_env=CleanFrankaEnv(mobile=True)\n",
    "cl_env.set_up_bul(True)"
   ]
  },
  {
   "cell_type": "code",
   "execution_count": 3,
   "id": "a93cfbc6",
   "metadata": {},
   "outputs": [],
   "source": [
    "config = {\n",
    "    \"q_init\": [-1.1,-1.1, 0.03755247, 0.398266408, \n",
    "               0.38741508, 0.209020819,  0.922805379,\n",
    "        0.46475231, 1.20273773,0.5],\n",
    "}\n",
    "con_q=torch.tensor(config[\"q_init\"])\n",
    "cur_joint_position=con_q\n",
    "ind=0\n",
    "for i in range(0,len(cur_joint_position)):\n",
    "    _, joint_name, joint_type, _, _, _, _, _, _, _, _, _, _, _, _, _, _ = p.getJointInfo(cl_env._robot.robot_uid, ind)\n",
    "    if(joint_type==4):\n",
    "        ind=ind+1\n",
    "    cl_env._p.resetJointState(cl_env._robot.robot_uid,ind,cur_joint_position[i])\n",
    "    ind=ind+1"
   ]
  },
  {
   "cell_type": "code",
   "execution_count": 4,
   "id": "82c68da5",
   "metadata": {},
   "outputs": [],
   "source": [
    "# test_len=np.array([0.1,2,1.8])/2\n",
    "# c_pos=np.array([1,0.,0.75])\n",
    "# c_ori=np.array([0,0,0,1.])\n",
    "# deg_ang=39.6"
   ]
  },
  {
   "cell_type": "code",
   "execution_count": 5,
   "id": "cb3ee628",
   "metadata": {},
   "outputs": [],
   "source": [
    "with open('test_dat_dict.pkl', 'rb') as f:\n",
    "    training_dat = pickle.load(f)\n",
    "    dist_list_np=torch.tensor(training_dat['features'])\n",
    "    activated_list=training_dat['prims']\n",
    "    paths_list=training_dat['paths']\n",
    "    "
   ]
  },
  {
   "cell_type": "code",
   "execution_count": 6,
   "id": "45cc5710",
   "metadata": {},
   "outputs": [],
   "source": [
    "cur_env=env_iter_cur=130\n",
    "\n",
    "id_list=[]\n",
    "y_vals_cur=activated_list[cur_env]\n",
    "for i in range(len(y_vals_cur)):\n",
    "    if(y_vals_cur[i].type=='cylinder'):\n",
    "        radius=y_vals_cur[i].r\n",
    "        height=y_vals_cur[i].h\n",
    "        c_pos=y_vals_cur[i].pos\n",
    "        c_ori=y_vals_cur[i].orientation\n",
    "        color=[0.0, 0.0, 1.0, 1]\n",
    "        visual = p.createVisualShape(\n",
    "            p.GEOM_CYLINDER,radius=radius,\n",
    "            length=height,\n",
    "            rgbaColor=color)\n",
    "        obj=p.createMultiBody(baseMass=0,\n",
    "                                    baseCollisionShapeIndex=-1,\n",
    "                                    baseVisualShapeIndex=visual,\n",
    "                                    basePosition=c_pos,\n",
    "                                     baseOrientation=c_ori)\n",
    "        id_list.append(obj)\n",
    "    if(y_vals_cur[i].type=='cube'):\n",
    "        test_len=y_vals_cur[i].lengths/2\n",
    "        c_pos=y_vals_cur[i].pos\n",
    "        c_ori=y_vals_cur[i].orientation\n",
    "        color=[np.random.rand(1),  np.random.rand(1), np.random.rand(1), 1]\n",
    "        visual = p.createVisualShape(\n",
    "            p.GEOM_BOX, halfExtents=test_len, rgbaColor=color)\n",
    "        obj=p.createMultiBody(baseMass=0,\n",
    "                                    baseCollisionShapeIndex=-1,\n",
    "                                    baseVisualShapeIndex=visual,\n",
    "                                    basePosition=c_pos,\n",
    "                                     baseOrientation=c_ori)\n",
    "        id_list.append(obj)"
   ]
  },
  {
   "cell_type": "code",
   "execution_count": 7,
   "id": "44b3cc88",
   "metadata": {},
   "outputs": [],
   "source": [
    "# color=[np.random.rand(1),  np.random.rand(1), np.random.rand(1), 1]\n",
    "# visual = p.createVisualShape(\n",
    "#     p.GEOM_BOX, halfExtents=test_len, rgbaColor=color)\n",
    "# obj=p.createMultiBody(baseMass=0,\n",
    "#                                     baseCollisionShapeIndex=-1,\n",
    "#                                     baseVisualShapeIndex=visual,\n",
    "#                                     basePosition=c_pos,\n",
    "#                                      baseOrientation=c_ori)"
   ]
  },
  {
   "cell_type": "code",
   "execution_count": 8,
   "id": "5f730167",
   "metadata": {},
   "outputs": [],
   "source": [
    "deg_ang=39.6"
   ]
  },
  {
   "cell_type": "code",
   "execution_count": 10,
   "id": "dff7de28",
   "metadata": {},
   "outputs": [],
   "source": [
    "viewMatrix = p.computeViewMatrix(\n",
    "    cameraEyePosition=[-1.8, 2., 0.5],\n",
    "    cameraTargetPosition=[-0.,-1.1,0.75],\n",
    "    cameraUpVector=[0, 0.05, 0.85]\n",
    ")\n",
    "projectionMatrix = p.computeProjectionMatrixFOV(\n",
    "    fov=deg_ang,\n",
    "    aspect=1.0,\n",
    "    nearVal=1.,\n",
    "    farVal=6.)\n",
    "width, height, rgbImg, depthImg, segImg = p.getCameraImage(\n",
    "    width=600, \n",
    "    height=600,\n",
    "    viewMatrix=viewMatrix,\n",
    "    projectionMatrix=projectionMatrix)"
   ]
  },
  {
   "cell_type": "code",
   "execution_count": 11,
   "id": "3076b57f",
   "metadata": {},
   "outputs": [],
   "source": [
    "img = Image.fromarray(rgbImg[:,:,:3], \"RGB\")\n",
    "img.show()\n",
    "img.save(\"mobile_view_0.png\")"
   ]
  },
  {
   "cell_type": "code",
   "execution_count": 12,
   "id": "88fc50f1",
   "metadata": {},
   "outputs": [],
   "source": [
    "target_pose=torch.tensor(viewMatrix).reshape((4,4)).T\n",
    "rot_mat=target_pose[:3,:3]\n",
    "transl_vec=target_pose[:3,3]\n",
    "rot_mat_inv=torch.inverse(rot_mat)\n",
    "trans_move=-rot_mat_inv@transl_vec\n",
    "pose_mat=torch.eye(4)\n",
    "pose_mat[:3,:3]=rot_mat_inv\n",
    "pose_mat[:3,3]=trans_move"
   ]
  },
  {
   "cell_type": "code",
   "execution_count": 13,
   "id": "ed14c94e",
   "metadata": {},
   "outputs": [],
   "source": [
    "viewMatrix = p.computeViewMatrix(\n",
    "    cameraEyePosition=[-3., 1., 2.5],\n",
    "    cameraTargetPosition=[-0.,-1.1,0.75],\n",
    "    cameraUpVector=[0, 0.05, 0.85]\n",
    ")\n",
    "width, height, rgbImg, depthImg, segImg = p.getCameraImage(\n",
    "    width=600, \n",
    "    height=600,\n",
    "    viewMatrix=viewMatrix,\n",
    "    projectionMatrix=projectionMatrix)"
   ]
  },
  {
   "cell_type": "code",
   "execution_count": 14,
   "id": "4e39e5c3",
   "metadata": {},
   "outputs": [],
   "source": [
    "img = Image.fromarray(rgbImg[:,:,:3], \"RGB\")\n",
    "img.show()\n",
    "img.save(\"mobile_view_1.png\")"
   ]
  },
  {
   "cell_type": "code",
   "execution_count": 15,
   "id": "9366beda",
   "metadata": {},
   "outputs": [],
   "source": [
    "target_pose=torch.tensor(viewMatrix).reshape((4,4)).T\n",
    "rot_mat=target_pose[:3,:3]\n",
    "transl_vec=target_pose[:3,3]\n",
    "rot_mat_inv=torch.inverse(rot_mat)\n",
    "trans_move=-rot_mat_inv@transl_vec\n",
    "pose_mat2=torch.eye(4)\n",
    "pose_mat2[:3,:3]=rot_mat_inv\n",
    "pose_mat2[:3,3]=trans_move"
   ]
  },
  {
   "cell_type": "code",
   "execution_count": 16,
   "id": "525af6af",
   "metadata": {},
   "outputs": [],
   "source": [
    "poses=torch.vstack([pose_mat[None],pose_mat2[None]])\n",
    "torch.save(poses,\"poses_mobile.tar\")"
   ]
  },
  {
   "cell_type": "code",
   "execution_count": null,
   "id": "cfd8fb42",
   "metadata": {},
   "outputs": [],
   "source": []
  }
 ],
 "metadata": {
  "kernelspec": {
   "display_name": "Python 3 (ipykernel)",
   "language": "python",
   "name": "python3"
  },
  "language_info": {
   "codemirror_mode": {
    "name": "ipython",
    "version": 3
   },
   "file_extension": ".py",
   "mimetype": "text/x-python",
   "name": "python",
   "nbconvert_exporter": "python",
   "pygments_lexer": "ipython3",
   "version": "3.8.10"
  }
 },
 "nbformat": 4,
 "nbformat_minor": 5
}
